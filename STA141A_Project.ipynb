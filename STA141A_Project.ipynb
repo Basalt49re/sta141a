{
  "nbformat": 4,
  "nbformat_minor": 0,
  "metadata": {
    "colab": {
      "provenance": []
    },
    "kernelspec": {
      "name": "ir",
      "display_name": "R"
    },
    "language_info": {
      "name": "R"
    }
  },
  "cells": [
    {
      "cell_type": "code",
      "source": [
        "#sample\n",
        "library(tidyverse)\n",
        "ggplot(data = mtcars, aes(x = hp, y = mpg)) +\n",
        "  geom_point() +\n",
        "  labs(\n",
        "    title = \"MPG vs Horsepower\",\n",
        "    x = \"Horsepower (hp)\",\n",
        "    y = \"Miles per Gallon (mpg)\"\n",
        "  )\n",
        "  print(\"hello world!\")\n"
      ],
      "metadata": {
        "colab": {
          "base_uri": "https://localhost:8080/"
        },
        "id": "_yQht3oLoC5T",
        "outputId": "928e850b-c29b-4588-aeb3-76f431a6cd3f"
      },
      "execution_count": null,
      "outputs": [
        {
          "output_type": "stream",
          "name": "stdout",
          "text": [
            "[1] \"hello world!\"\n"
          ]
        }
      ]
    },
    {
      "cell_type": "markdown",
      "source": [],
      "metadata": {
        "id": "GfVIZR1noVSG"
      }
    },
    {
      "cell_type": "markdown",
      "source": [
        "# Data Sets\n",
        "\n",
        "## Unemployment\n",
        "\n",
        "[Unemployment in EU](https://www.kaggle.com/code/gpreda/starter-kernel-unemployment-in-eu-countries/comments#986469)\n",
        "[Unemployment in US](https://www.kaggle.com/code/justin2028/unemployment-in-america-per-us-state-code-starter)\n",
        "\n",
        "\n",
        "## Crime\n",
        "\n",
        "[World Crime](https://www.kaggle.com/code/zikazika/analysis-of-world-crime)"
      ],
      "metadata": {
        "id": "Ds3_Bc4NST0C"
      }
    },
    {
      "cell_type": "code",
      "source": [
        "{python}\n",
        "import kagglehub\n",
        "import os\n",
        "\n",
        "justin2028_unemployment_in_america_per_us_state_path = kagglehub.dataset_download('justin2028/unemployment-in-america-per-us-state')\n",
        "\n",
        "print('Data source import complete.')\n",
        "\n",
        "for dirname, _, filenames in os.walk('/kaggle/input'):\n",
        "    for filename in filenames:\n",
        "        print(os.path.join(dirname, filename))\n"
      ],
      "metadata": {
        "colab": {
          "base_uri": "https://localhost:8080/",
          "height": 124
        },
        "id": "f0FX2fTQQx-Z",
        "outputId": "87b542fc-175f-4aac-8d6a-29bf7f852107"
      },
      "execution_count": null,
      "outputs": [
        {
          "output_type": "error",
          "ename": "ERROR",
          "evalue": "Error in parse(text = input): <text>:2:8: unexpected symbol\n1: {python}\n2: import kagglehub\n          ^\n",
          "traceback": [
            "Error in parse(text = input): <text>:2:8: unexpected symbol\n1: {python}\n2: import kagglehub\n          ^\nTraceback:\n"
          ]
        }
      ]
    }
  ]
}